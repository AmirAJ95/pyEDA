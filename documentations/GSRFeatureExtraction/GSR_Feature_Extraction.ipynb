{
  "nbformat": 4,
  "nbformat_minor": 0,
  "metadata": {
    "colab": {
      "name": "GSR Feature Extraction_notebook.ipynb",
      "provenance": []
    },
    "kernelspec": {
      "name": "python3",
      "display_name": "Python 3"
    }
  },
  "cells": [
    {
      "cell_type": "markdown",
      "metadata": {
        "id": "aDPjTbgyTxRm",
        "colab_type": "text"
      },
      "source": [
        "# Extract the Data\n",
        "First we extract the raw gsr data from Shimmer file using openShimmerFile."
      ]
    },
    {
      "cell_type": "code",
      "metadata": {
        "id": "SFc2JmgPHxr-",
        "colab_type": "code",
        "colab": {}
      },
      "source": [
        "Raw_GSR = openShimmerFile('110_Session1_Shimmer_9301_Calibrated_PC.csv', 'Shimmer_9301_GSR_Skin_Conductance_CAL')"
      ],
      "execution_count": 0,
      "outputs": []
    },
    {
      "cell_type": "markdown",
      "metadata": {
        "id": "BKgqTIwZT_cz",
        "colab_type": "text"
      },
      "source": [
        "# Visualise the raw data\n",
        "After extracting the data we visualise the raw data."
      ]
    },
    {
      "cell_type": "code",
      "metadata": {
        "id": "w-uUe_1sH4dn",
        "colab_type": "code",
        "outputId": "971f79ac-3166-44a4-f9d6-0f8e580cc951",
        "colab": {
          "base_uri": "https://localhost:8080/",
          "height": 301
        }
      },
      "source": [
        "# Visualise the data\n",
        "gsrdata = np.array(Raw_GSR)\n",
        "plt.figure(figsize=(12,4))\n",
        "plt.plot(gsrdata)\n",
        "plt.figure(figsize=(12,4))"
      ],
      "execution_count": 39,
      "outputs": [
        {
          "output_type": "execute_result",
          "data": {
            "text/plain": [
              "<Figure size 864x288 with 0 Axes>"
            ]
          },
          "metadata": {
            "tags": []
          },
          "execution_count": 39
        },
        {
          "output_type": "display_data",
          "data": {
            "image/png": "[encoded data removed]",
            "text/plain": [
              "<Figure size 864x288 with 1 Axes>"
            ]
          },
          "metadata": {
            "tags": []
          }
        },
        {
          "output_type": "display_data",
          "data": {
            "text/plain": [
              "<Figure size 864x288 with 0 Axes>"
            ]
          },
          "metadata": {
            "tags": []
          }
        }
      ]
    },
    {
      "cell_type": "markdown",
      "metadata": {
        "id": "nMBQ3A44N4io",
        "colab_type": "text"
      },
      "source": [
        "# Process the EDA\n",
        "For processing the EDA and calculating the mean, the max, and the number of peaks, we use process_segmentwise function. \n",
        "\n",
        "Data here is downsampled to 40Hz frequency like it is explained in preprocessing notebook. Other parts of preprocessing are handled in process function which is called inside process_segmentwise and there is no need to worry about it."
      ]
    },
    {
      "cell_type": "code",
      "metadata": {
        "id": "FpywjRIDNaLK",
        "colab_type": "code",
        "colab": {}
      },
      "source": [
        "wd, m = process_segmentwise(data, sample_rate=sample_rate, segment_width=segment_width, segment_overlap=0)"
      ],
      "execution_count": 0,
      "outputs": []
    },
    {
      "cell_type": "markdown",
      "metadata": {
        "id": "L1CxJWkTOmF3",
        "colab_type": "text"
      },
      "source": [
        "# Working Data(wd) and Measures(m)\n",
        "Process segmentwise returns two dictionaries: Working Data(wd) and  Measures(m)\n",
        "<br>\n",
        "<br>\n",
        "\n",
        "Working Data(wd): This dictionary includes:\n",
        "<br>\n",
        "- filtered_gsr: gsr signal passed from low pass filter for each window\n",
        "\n",
        "- rol_mean: rolling widnow passed from filtered gsr for each window\n",
        "\n",
        "- normalized_gsr: normalized window averaged filtered gsr for each window\n",
        "\n",
        "- filtered_phasic_gsr: filtered phasic component of normalized gsr for each window\n",
        "\n",
        "- phasic_gsr: phasic component of gsr for each window\n",
        "\n",
        "- tonic_gsr: tonic component of gsr for each window\n",
        "\n",
        "- peaklist: the list of collected peaks in each window for each window\n",
        "\n",
        "- indexlist: the index list of collected peaks for each window\n",
        "<br>\n",
        "\n",
        "Measures(m): This dictionary includes:\n",
        "<br>\n",
        "- number_of_peaks: number of peaks collected for each window\n",
        "\n",
        "- mean: mean of normalized gsr for each window\n",
        "\n",
        "- max: max of normalized gsr for each window"
      ]
    },
    {
      "cell_type": "markdown",
      "metadata": {
        "id": "ASz97Ka-Rt8W",
        "colab_type": "text"
      },
      "source": [
        "# Number of Collected Peaks\n",
        "To see the number of collected peaks we use Measures(m) dictionary:"
      ]
    },
    {
      "cell_type": "code",
      "metadata": {
        "id": "ttJR3Ky2vM7j",
        "colab_type": "code",
        "outputId": "b4b8a5aa-5442-4ff5-ad24-fb568190deeb",
        "colab": {
          "base_uri": "https://localhost:8080/",
          "height": 35
        }
      },
      "source": [
        "print(m['number_of_peaks'])"
      ],
      "execution_count": 34,
      "outputs": [
        {
          "output_type": "stream",
          "text": [
            "[4, 6, 6, 5, 1]\n"
          ],
          "name": "stdout"
        }
      ]
    },
    {
      "cell_type": "markdown",
      "metadata": {
        "id": "Of_ELQr1R-bT",
        "colab_type": "text"
      },
      "source": [
        "As you can see we have 5 different windows, and we collected 4, 6, 6, 5, and 1 peaks resectively in those windows. (Total of 22 peaks)"
      ]
    },
    {
      "cell_type": "markdown",
      "metadata": {
        "id": "X3ltj_mVSRdU",
        "colab_type": "text"
      },
      "source": [
        "# Indexlist Mapping\n",
        "Mapping the indexlist of each window to original data\n"
      ]
    },
    {
      "cell_type": "code",
      "metadata": {
        "id": "5lzbj2HBJDjy",
        "colab_type": "code",
        "colab": {}
      },
      "source": [
        "#plot\n",
        "for index,i in enumerate(wd['indexlist']):\n",
        "  for index2,j in enumerate(i):\n",
        "    wd['indexlist'][index][index2] = j+segment_width*sample_rate*index"
      ],
      "execution_count": 0,
      "outputs": []
    },
    {
      "cell_type": "markdown",
      "metadata": {
        "id": "BpS8vb8lSpF9",
        "colab_type": "text"
      },
      "source": [
        "# Storing the peaks for visualization\n"
      ]
    },
    {
      "cell_type": "code",
      "metadata": {
        "id": "5wI9dZMfXI9p",
        "colab_type": "code",
        "colab": {}
      },
      "source": [
        "peaks = []\n",
        "for index,i in enumerate(wd['indexlist']):\n",
        "  for index2,j in enumerate(i):\n",
        "    peaks.append(j)"
      ],
      "execution_count": 0,
      "outputs": []
    },
    {
      "cell_type": "markdown",
      "metadata": {
        "id": "dFF3fJDiSyDd",
        "colab_type": "text"
      },
      "source": [
        "# Plot\n",
        "Here we plot the filtered GSR data along with detected peaks:"
      ]
    },
    {
      "cell_type": "code",
      "metadata": {
        "id": "DdxCn9RQWlC9",
        "colab_type": "code",
        "outputId": "c7cc55d8-4878-44b8-a74b-e1ae5e4b27c0",
        "colab": {
          "base_uri": "https://localhost:8080/",
          "height": 265
        }
      },
      "source": [
        "filtered_gsr = []\n",
        "for i in wd['filtered_gsr']:\n",
        "  for j in i:\n",
        "    filtered_gsr.append(j)\n",
        "\n",
        "filtered_gsr = np.array(filtered_gsr)\n",
        "\n",
        "plt.plot(filtered_gsr)\n",
        "plt.plot(peaks, filtered_gsr[peaks], \"x\")\n",
        "plt.show()"
      ],
      "execution_count": 37,
      "outputs": [
        {
          "output_type": "display_data",
          "data": {
            "image/png": "[encoded data removed]",
            "text/plain": [
              "<Figure size 432x288 with 1 Axes>"
            ]
          },
          "metadata": {
            "tags": []
          }
        }
      ]
    }
  ]
}